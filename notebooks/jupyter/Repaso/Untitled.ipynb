{
 "cells": [
  {
   "cell_type": "markdown",
   "id": "a66807b6-e701-4b9b-a730-c8e9aabb4347",
   "metadata": {},
   "source": [
    "https://patrickwalls.github.io/mathematicalpython/"
   ]
  },
  {
   "cell_type": "markdown",
   "id": "afd92e48-88c9-4c87-b843-53b1885da8f2",
   "metadata": {},
   "source": [
    "instalar distribucuin linux: https://nokyotsu.com/latex/linux.html"
   ]
  },
  {
   "cell_type": "code",
   "execution_count": 3,
   "id": "6442908a-3a6e-44e9-b2df-cc6539045d92",
   "metadata": {
    "tags": []
   },
   "outputs": [
    {
     "name": "stdout",
     "output_type": "stream",
     "text": [
      "$$ab0cd$$\n"
     ]
    }
   ],
   "source": [
    "print('$$ab0cd$$')"
   ]
  },
  {
   "cell_type": "markdown",
   "id": "cd0bec6b-06fc-4edd-bd88-1bd90c577dba",
   "metadata": {},
   "source": [
    "$x_n$"
   ]
  },
  {
   "cell_type": "markdown",
   "id": "dbc6d4a4-e477-45c0-b38c-1396575da8e2",
   "metadata": {
    "tags": []
   },
   "source": [
    "$x^2$"
   ]
  },
  {
   "cell_type": "markdown",
   "id": "6f4190d7-0748-425b-825d-6b874192dc04",
   "metadata": {},
   "source": [
    "$$\\begin{equation}\n",
    "\\begin{matrix}\n",
    "a & b\\\\\n",
    "c & d\n",
    "\\end{matrix}\n",
    "\\end{equation} $$"
   ]
  },
  {
   "cell_type": "markdown",
   "id": "fc1fe733-b410-424c-b4ff-11d4e19a3aa3",
   "metadata": {},
   "source": [
    "\\begin{equation}\n",
    "\\begin{pmatrix}\n",
    "2 & 5 & 0\\\\\n",
    "7 & 3 & 8\\\\\n",
    "3 & 0 & 1\n",
    "\\end{pmatrix}\n",
    "\\end{equation} "
   ]
  },
  {
   "cell_type": "markdown",
   "id": "c65a2a6e-ef7d-4cd5-ba1c-803d10743685",
   "metadata": {},
   "source": [
    "\\begin{equation}\n",
    "\\begin{bmatrix}\n",
    "6 & 8 & 1\\\\\n",
    "2 & 9 & 3\\\\\n",
    "4 & 5 & 1\n",
    "\\end{bmatrix}\n",
    "\\end{equation} "
   ]
  },
  {
   "cell_type": "markdown",
   "id": "7c60731d-da1a-420b-ba40-890f1482f698",
   "metadata": {
    "tags": []
   },
   "source": [
    "\\begin{equation}\n",
    "\\begin{Vmatrix}\n",
    "3 & 5 & 0\\\\\n",
    "2 & 8 & 6\\\\\n",
    "7 & 1 & 4\n",
    "\\end{Vmatrix}\n",
    "\\end{equation} "
   ]
  },
  {
   "cell_type": "markdown",
   "id": "76536875-70ff-44af-bb2d-082ce7322775",
   "metadata": {
    "tags": []
   },
   "source": [
    "\\begin{equation}\n",
    "\\begin{vmatrix}\n",
    "2 & 5 & 8\\\\\n",
    "6 & 7 & 1\\\\\n",
    "5 & 0 & 3\n",
    "\\end{vmatrix}\n",
    "\\end{equation} "
   ]
  },
  {
   "cell_type": "markdown",
   "id": "071b8e42-f627-4217-8128-d142cb018077",
   "metadata": {},
   "source": [
    "\\begin{equation}\n",
    "\\begin{pmatrix}\n",
    "1 & 0 & \\cdots & 0\\\\\n",
    "0 & 1 & \\cdots & 0\\\\\n",
    "\\vdots & \\vdots & \\ddots & \\vdots\\\\\n",
    "0 & 0 & \\cdots & 1\n",
    "\\end{pmatrix}\n",
    "\\end{equation} "
   ]
  },
  {
   "cell_type": "markdown",
   "id": "30233843-c95c-433d-896c-764a5bf0862a",
   "metadata": {},
   "source": [
    "https://manualdelatex.com/tutoriales/matrices"
   ]
  },
  {
   "cell_type": "code",
   "execution_count": null,
   "id": "fd6dd40c-f1ab-473f-bab3-b9b1a6e02375",
   "metadata": {},
   "outputs": [],
   "source": []
  }
 ],
 "metadata": {
  "kernelspec": {
   "display_name": "Python 3 (ipykernel)",
   "language": "python",
   "name": "python3"
  },
  "language_info": {
   "codemirror_mode": {
    "name": "ipython",
    "version": 3
   },
   "file_extension": ".py",
   "mimetype": "text/x-python",
   "name": "python",
   "nbconvert_exporter": "python",
   "pygments_lexer": "ipython3",
   "version": "3.12.2"
  }
 },
 "nbformat": 4,
 "nbformat_minor": 5
}
